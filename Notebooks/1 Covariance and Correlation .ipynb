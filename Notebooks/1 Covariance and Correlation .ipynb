{
 "cells": [
  {
   "cell_type": "markdown",
   "id": "9ec36aa9-34c0-415c-bcc0-dc35f179357a",
   "metadata": {},
   "source": [
    "## **Covariance** \n",
    "Covariance is a measure of how much two random variables vary together. It's similar to variance, but where variance tells you how a _single_ variable varies, **co**variance tells you how two variables vary together. <br>\n",
    "A positive covariance means that the two variables at hand are postively related, and they move in the same direction. <br>\n",
    "A negative covariance means that the two variables are inversely related, or that they move in opposite directions. <br>\n",
    "\n",
    "<div align = \"center\">\n",
    "    \n",
    "<img src = \"https://cdn-images-1.medium.com/max/800/1*GH0ou22oJEwAw89GkrS8-w.png\" width = \"400\" />\n",
    "\n",
    "<br>\n",
    "   \n",
    "</div>\n",
    "\n",
    "The formula to calculate covariance is as follows, \n",
    "$$ cov_{x, y} = \\frac{ \\sum (x_i - \\bar{x})(y_i - \\bar{y})}{N - 1} $$"
   ]
  },
  {
   "cell_type": "code",
   "execution_count": 1,
   "id": "25c1d88f-f904-4db5-afe5-fee63c1947e2",
   "metadata": {
    "execution": {
     "iopub.execute_input": "2021-09-01T10:31:33.450324Z",
     "iopub.status.busy": "2021-09-01T10:31:33.449754Z",
     "iopub.status.idle": "2021-09-01T10:31:33.601496Z",
     "shell.execute_reply": "2021-09-01T10:31:33.600152Z",
     "shell.execute_reply.started": "2021-09-01T10:31:33.450178Z"
    },
    "tags": []
   },
   "outputs": [],
   "source": [
    "import numpy as np\n",
    "\n",
    "def covariance(x, y):\n",
    "    '''\n",
    "    Returns covariance between two array-like objects of numeric values.\n",
    "    \n",
    "    Parameters: \n",
    "    \n",
    "    x: array-like object of numeric values\n",
    "    y: array-like object of numeric values\n",
    "    '''\n",
    "    if len(x) != len(y):\n",
    "        return \n",
    "    \n",
    "    x_mean = np.mean(x)\n",
    "    y_mean = np.mean(y)\n",
    "    sum = 0\n",
    "    \n",
    "    for i in range(len(x)):\n",
    "        sum += ((x[i] - x_mean) * (y[i] - y_mean))\n",
    "    \n",
    "    return sum / (len(x) - 1)"
   ]
  },
  {
   "cell_type": "code",
   "execution_count": 2,
   "id": "9a923f49-26b8-403f-8315-c2704a2bced5",
   "metadata": {
    "execution": {
     "iopub.execute_input": "2021-09-01T10:31:34.036696Z",
     "iopub.status.busy": "2021-09-01T10:31:34.035743Z",
     "iopub.status.idle": "2021-09-01T10:31:34.060069Z",
     "shell.execute_reply": "2021-09-01T10:31:34.056490Z",
     "shell.execute_reply.started": "2021-09-01T10:31:34.036581Z"
    },
    "tags": []
   },
   "outputs": [
    {
     "name": "stdout",
     "output_type": "stream",
     "text": [
      "x: [0 1 2 3 4 5 6 7 8 9]\n",
      "y: [0.64356116 1.81443533 2.10648176 3.86900601 4.23672139 5.75093173\n",
      " 6.81048412 7.6899315  8.22802267 9.69893621]\n"
     ]
    }
   ],
   "source": [
    "# Generating x and y:\n",
    "x = np.arange(10)\n",
    "y = x + np.random.rand(10)    # Adding some noise using rand()\n",
    "print(f\"x: {x}\")\n",
    "print(f\"y: {y}\")"
   ]
  },
  {
   "cell_type": "code",
   "execution_count": 3,
   "id": "7ceada0c-9de6-4068-b461-07206019c8a4",
   "metadata": {
    "execution": {
     "iopub.execute_input": "2021-09-01T10:31:34.584821Z",
     "iopub.status.busy": "2021-09-01T10:31:34.584464Z",
     "iopub.status.idle": "2021-09-01T10:31:35.650831Z",
     "shell.execute_reply": "2021-09-01T10:31:35.650248Z",
     "shell.execute_reply.started": "2021-09-01T10:31:34.584782Z"
    },
    "tags": []
   },
   "outputs": [
    {
     "data": {
      "image/png": "[encoded data removed]",
      "text/plain": [
       "<Figure size 432x288 with 1 Axes>"
      ]
     },
     "metadata": {
      "needs_background": "light"
     },
     "output_type": "display_data"
    }
   ],
   "source": [
    "# Let's plot the data \n",
    "import matplotlib.pyplot as plt\n",
    "import seaborn as sns\n",
    "%matplotlib inline\n",
    "\n",
    "sns.scatterplot(x = x, y = y, palette = \"Pastel1\")\n",
    "plt.xlabel(\"x\")\n",
    "plt.ylabel(\"y\")\n",
    "\n",
    "plt.show()"
   ]
  },
  {
   "cell_type": "markdown",
   "id": "c9a503f5-1045-42b1-8117-e3d0a85cf179",
   "metadata": {},
   "source": [
    "It's obvious that covariance between x and y must be positive."
   ]
  },
  {
   "cell_type": "code",
   "execution_count": 4,
   "id": "082d1926-4fd0-4de6-91b2-7d129d88df6e",
   "metadata": {
    "execution": {
     "iopub.execute_input": "2021-09-01T10:31:35.652136Z",
     "iopub.status.busy": "2021-09-01T10:31:35.651870Z",
     "iopub.status.idle": "2021-09-01T10:31:35.657759Z",
     "shell.execute_reply": "2021-09-01T10:31:35.656764Z",
     "shell.execute_reply.started": "2021-09-01T10:31:35.652107Z"
    },
    "tags": []
   },
   "outputs": [
    {
     "name": "stdout",
     "output_type": "stream",
     "text": [
      "Covariance: 9.147187782636953\n"
     ]
    }
   ],
   "source": [
    "print(f\"Covariance: {covariance(x, y)}\")"
   ]
  },
  {
   "cell_type": "code",
   "execution_count": 5,
   "id": "09449a04-7d31-4b9f-ab1f-a4ff62fa7b0c",
   "metadata": {
    "execution": {
     "iopub.execute_input": "2021-09-01T10:31:35.944890Z",
     "iopub.status.busy": "2021-09-01T10:31:35.944001Z",
     "iopub.status.idle": "2021-09-01T10:31:35.951566Z",
     "shell.execute_reply": "2021-09-01T10:31:35.950399Z",
     "shell.execute_reply.started": "2021-09-01T10:31:35.944822Z"
    },
    "tags": []
   },
   "outputs": [
    {
     "name": "stdout",
     "output_type": "stream",
     "text": [
      "Covariance: 9.147187782636951\n"
     ]
    }
   ],
   "source": [
    "# Using cov function of numpy to calculate the covariance \n",
    "print(f\"Covariance: {np.cov(x, y)[0][1]}\")"
   ]
  },
  {
   "cell_type": "markdown",
   "id": "8684bc56-e431-4280-9d57-993155ef810a",
   "metadata": {},
   "source": [
    "np.cov() always returns the covariance matrix."
   ]
  },
  {
   "cell_type": "markdown",
   "id": "2ceede1a-b6f2-4e5d-93ba-f556584818ae",
   "metadata": {
    "execution": {
     "iopub.execute_input": "2021-09-01T09:58:23.658368Z",
     "iopub.status.busy": "2021-09-01T09:58:23.658162Z",
     "iopub.status.idle": "2021-09-01T09:58:23.663325Z",
     "shell.execute_reply": "2021-09-01T09:58:23.662020Z",
     "shell.execute_reply.started": "2021-09-01T09:58:23.658345Z"
    }
   },
   "source": [
    "<br>\n",
    "\n",
    "## **Correlation** \n",
    "Correlation is also a measure of how much two random variables change together. However, \n",
    "- Covariance only indicates the direction of the linear relationship between variables, whereas correlation measures both strength and direction of the linear relationship between two variables. \n",
    "- Covariance values are not standardized, whereas correlation values are standardized.\n",
    "\n",
    "The Pearson product-moment correlation coefficient, also known as $r, \\rho$, or Pearson's $r$, is a measure of the strength and direction of the linear relationship between two variables that is defined as the covariance of the variables divided by the product of their standard deviations. \n",
    "\n",
    "<div align = \"center\">\n",
    "    \n",
    "<img src = \"https://lh5.googleusercontent.com/4ibkybM3slLEFFpSAz_SwFYJ6J4upT1qZ7BhVqwpkh2ARtegKFBOYi04SEQWuFbBxM8CnhClxFsK78CoVQDz7tCbsUSs9naUyS5_eEzOCwk5200t9AaycsszbK9JOOC1JYQ7S-I4m6AnOoQx0w\" width = \"400\" />\n",
    "    \n",
    "<br>\n",
    "    \n",
    "<img src = \"https://lh4.googleusercontent.com/RO4FMCP7MONmHLdQJms9AUo1oCc-JHwZVXaI5cMkZyfm6sCM-uAaMnkghZcVtmXcuVG1gAhgje-oq2EbK6dXmPa-z3Q4_CzHkQelBHeXVdFXQLFb3etROCa-LGwodNuJohOIxb3_yqJgrnYtxQ\" width = \"400\" />\n",
    "\n",
    "<br>\n",
    "   \n",
    "</div>\n",
    "\n",
    "The correlation is unitless and always lies between -1 (perfect anti-correlation) and 1 (perfect correlation). <br>\n",
    "The formula of Pearson's r is as follows, \n",
    "$$ \\rho \\ (or \\ r) = \\frac{cov_{x, y}}{\\sigma_x \\sigma_y} = \\frac{ \\sum (x_i - \\bar{x})(y_i - \\bar{y})}{ \\sqrt{\\sum (x_i - \\bar{x})^2 \\sum(y_i - \\bar{y})^2}} $$"
   ]
  },
  {
   "cell_type": "code",
   "execution_count": 6,
   "id": "d71be068-eacd-4be1-9e58-c04a5e512acf",
   "metadata": {
    "execution": {
     "iopub.execute_input": "2021-09-01T10:31:38.983608Z",
     "iopub.status.busy": "2021-09-01T10:31:38.983280Z",
     "iopub.status.idle": "2021-09-01T10:31:38.988613Z",
     "shell.execute_reply": "2021-09-01T10:31:38.987711Z",
     "shell.execute_reply.started": "2021-09-01T10:31:38.983573Z"
    },
    "tags": []
   },
   "outputs": [],
   "source": [
    "def correlation(x, y):\n",
    "    '''\n",
    "    Returns correlation between two array-like objects of numeric values.\n",
    "    \n",
    "    Parameters: \n",
    "    \n",
    "    x: array-like object of numeric values\n",
    "    y: array-like object of numeric values\n",
    "    '''\n",
    "    return np.corrcoef(x, y)[0][1]    # np.corrcoef() always returns the correlation matrix"
   ]
  },
  {
   "cell_type": "code",
   "execution_count": 7,
   "id": "d5ccb0c9-bc09-46bd-9251-e59373490399",
   "metadata": {
    "execution": {
     "iopub.execute_input": "2021-09-01T10:31:40.132609Z",
     "iopub.status.busy": "2021-09-01T10:31:40.131784Z",
     "iopub.status.idle": "2021-09-01T10:31:40.152625Z",
     "shell.execute_reply": "2021-09-01T10:31:40.149130Z",
     "shell.execute_reply.started": "2021-09-01T10:31:40.132440Z"
    },
    "tags": []
   },
   "outputs": [
    {
     "name": "stdout",
     "output_type": "stream",
     "text": [
      "Correlation: 0.9956677691526015\n"
     ]
    }
   ],
   "source": [
    "# Using the same data x and y as above\n",
    "print(f\"Correlation: {correlation(x, y)}\")"
   ]
  },
  {
   "cell_type": "code",
   "execution_count": null,
   "id": "f74a1f47-3685-40f9-b01e-8fe27204049d",
   "metadata": {},
   "outputs": [],
   "source": []
  }
 ],
 "metadata": {
  "kernelspec": {
   "display_name": "Python 3",
   "language": "python",
   "name": "python3"
  },
  "language_info": {
   "codemirror_mode": {
    "name": "ipython",
    "version": 3
   },
   "file_extension": ".py",
   "mimetype": "text/x-python",
   "name": "python",
   "nbconvert_exporter": "python",
   "pygments_lexer": "ipython3",
   "version": "3.8.8"
  }
 },
 "nbformat": 4,
 "nbformat_minor": 5
}
